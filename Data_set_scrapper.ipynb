{
 "cells": [
  {
   "cell_type": "code",
   "execution_count": 1,
   "id": "5ceb0835",
   "metadata": {},
   "outputs": [],
   "source": [
    "import requests\n",
    "import json\n",
    "from bs4 import BeautifulSoup\n",
    "import re\n",
    "\n",
    "# printf(arg) = print(arg,sep='\\n')\n"
   ]
  },
  {
   "cell_type": "code",
   "execution_count": 2,
   "id": "4325746b",
   "metadata": {},
   "outputs": [],
   "source": [
    "def image_saver(location,file_name,target_url):\n",
    "\n",
    "    with open(location+file_name, 'wb') as handle:\n",
    "        response = requests.get(target_url, stream=True)\n",
    "\n",
    "        if not response.ok:\n",
    "            print(response)\n",
    "\n",
    "        for block in response.iter_content(1024):\n",
    "            if not block:\n",
    "                break\n",
    "\n",
    "            handle.write(block)\n",
    "            \n",
    "def request_page_html_content(url,params = {}):\n",
    "    headers = {\n",
    "        \"User-Agent\":\n",
    "        \"Mozilla/5.0 (Windows NT 10.0; Win64; x64) AppleWebKit/537.36 (KHTML, like Gecko) Chrome/97.0.4692.99 Safari/537.36 OPR/83.0.4254.46\"\n",
    "    }\n",
    "\n",
    "    html_content = requests.get(url, headers=headers,cookies = {'birthtime': '568022401'}, params=params).text\n",
    "\n",
    "    return html_content\n",
    "\n",
    "\n",
    "def img_url_clearner(img).\n",
    "    if 'app' in "
   ]
  },
  {
   "cell_type": "markdown",
   "id": "ef72f199",
   "metadata": {},
   "source": [
    "current html content is get manuelly"
   ]
  },
  {
   "cell_type": "code",
   "execution_count": 3,
   "id": "10529bcc",
   "metadata": {},
   "outputs": [],
   "source": [
    "# no enought data\n",
    "# request_html = request_page_html_content('https://store.steampowered.com/tags/en/MMORPG/?l=french')\n",
    "# soup_content = BeautifulSoup(request_html, 'html.parser')\n",
    "# div_game_tab = soup_content.find('div',{'class':'tabarea'})\n",
    "# print(les_a)"
   ]
  },
  {
   "cell_type": "code",
   "execution_count": 4,
   "id": "ae11b1a1",
   "metadata": {},
   "outputs": [],
   "source": [
    "file = open('./steam_MMO_rpg.html','r',encoding='UTF-8')\n",
    "html_content = file.read()\n",
    "soup_content = BeautifulSoup(html_content, 'html.parser')"
   ]
  },
  {
   "cell_type": "code",
   "execution_count": 5,
   "id": "311af797",
   "metadata": {},
   "outputs": [],
   "source": [
    "urls = soup_content.find_all('a',{\"class\",'search_result_row'})\n",
    "list_url = list(map(lambda e : e['href'] ,urls))\n",
    "# print(*list_url,sep='\\n')\n",
    "    "
   ]
  },
  {
   "cell_type": "code",
   "execution_count": 42,
   "id": "3a0dd040",
   "metadata": {
    "scrolled": true
   },
   "outputs": [
    {
     "name": "stdout",
     "output_type": "stream",
     "text": [
      "https://store.steampowered.com/app/1599340/Lost_Ark/?snr=1_7_7_151_150_1\n"
     ]
    },
    {
     "ename": "AttributeError",
     "evalue": "'NoneType' object has no attribute 'find_all'",
     "output_type": "error",
     "traceback": [
      "\u001b[1;31m---------------------------------------------------------------------------\u001b[0m",
      "\u001b[1;31mAttributeError\u001b[0m                            Traceback (most recent call last)",
      "Input \u001b[1;32mIn [42]\u001b[0m, in \u001b[0;36m<cell line: 5>\u001b[1;34m()\u001b[0m\n\u001b[0;32m      7\u001b[0m page \u001b[38;5;241m=\u001b[39m BeautifulSoup(response, \u001b[38;5;124m'\u001b[39m\u001b[38;5;124mhtml.parser\u001b[39m\u001b[38;5;124m'\u001b[39m)\n\u001b[0;32m      8\u001b[0m target_content \u001b[38;5;241m=\u001b[39m page\u001b[38;5;241m.\u001b[39mfind(\u001b[38;5;124m'\u001b[39m\u001b[38;5;124mdiv\u001b[39m\u001b[38;5;124m'\u001b[39m,class_\u001b[38;5;241m=\u001b[39m\u001b[38;5;124m'\u001b[39m\u001b[38;5;124mgame_background_glow\u001b[39m\u001b[38;5;124m'\u001b[39m)\n\u001b[1;32m---> 10\u001b[0m find_all_img \u001b[38;5;241m=\u001b[39m \u001b[43mtarget_content\u001b[49m\u001b[38;5;241;43m.\u001b[39;49m\u001b[43mfind_all\u001b[49m(\u001b[38;5;124m'\u001b[39m\u001b[38;5;124mimg\u001b[39m\u001b[38;5;124m'\u001b[39m)\n\u001b[0;32m     11\u001b[0m imgs_src \u001b[38;5;241m=\u001b[39m \u001b[38;5;28mlist\u001b[39m(\u001b[38;5;28mmap\u001b[39m(\u001b[38;5;28;01mlambda\u001b[39;00m e : e[\u001b[38;5;124m'\u001b[39m\u001b[38;5;124msrc\u001b[39m\u001b[38;5;124m'\u001b[39m] , find_all_img))\n\u001b[0;32m     13\u001b[0m game_id \u001b[38;5;241m=\u001b[39m url\u001b[38;5;241m.\u001b[39msplit(\u001b[38;5;124m'\u001b[39m\u001b[38;5;124m/\u001b[39m\u001b[38;5;124m'\u001b[39m)[\u001b[38;5;241m4\u001b[39m]\n",
      "\u001b[1;31mAttributeError\u001b[0m: 'NoneType' object has no attribute 'find_all'"
     ]
    }
   ],
   "source": [
    "print(list_url[0])\n",
    "\n",
    "i = 0\n",
    "\n",
    "for url in list_url:\n",
    "    response = request_page_html_content(url)\n",
    "    page = BeautifulSoup(response, 'html.parser')\n",
    "    target_content = page.find('div',class_='game_background_glow')\n",
    "\n",
    "    find_all_img = target_content.find_all('img')\n",
    "    imgs_src = list(map(lambda e : e['src'] , find_all_img))\n",
    "\n",
    "    game_id = url.split('/')[4]\n",
    "\n",
    "\n",
    "\n",
    "    for src in imgs_src :\n",
    "        if game_id in src : # match game img\n",
    "            if 'movie' in src or 'header' in src : \n",
    "                continue\n",
    "            i = i + 1 \n",
    "            splited = src.split('/')\n",
    "            img_split = splited[-1].split('.')\n",
    "            del img_split[1]\n",
    "            splited[-1] = '.'.join(img_split)\n",
    "            new_url = '/'.join(splited)\n",
    "            image_saver('./mmoRPG/',str(i)+'.jpg',new_url)\n"
   ]
  },
  {
   "cell_type": "code",
   "execution_count": null,
   "id": "c9beb0eb",
   "metadata": {},
   "outputs": [],
   "source": [
    "# print()\n",
    "\n",
    "# # for url in list_url:\n",
    "# #     print(url)\n",
    "# print(list_url[0])\n",
    "\n",
    "#     response = request_page_html_content(url)\n",
    "#     page = BeautifulSoup(response, 'html.parser')\n",
    "#     print(page)"
   ]
  }
 ],
 "metadata": {
  "kernelspec": {
   "display_name": "Python 3 (ipykernel)",
   "language": "python",
   "name": "python3"
  },
  "language_info": {
   "codemirror_mode": {
    "name": "ipython",
    "version": 3
   },
   "file_extension": ".py",
   "mimetype": "text/x-python",
   "name": "python",
   "nbconvert_exporter": "python",
   "pygments_lexer": "ipython3",
   "version": "3.8.8"
  }
 },
 "nbformat": 4,
 "nbformat_minor": 5
}
