{
 "cells": [
  {
   "cell_type": "code",
   "execution_count": 55,
   "id": "5ceb0835",
   "metadata": {},
   "outputs": [],
   "source": [
    "import requests\n",
    "import json\n",
    "from bs4 import BeautifulSoup\n",
    "import re\n",
    "\n",
    "# printf(arg) = print(arg,sep='\\n')\n"
   ]
  },
  {
   "cell_type": "code",
   "execution_count": 92,
   "id": "4325746b",
   "metadata": {},
   "outputs": [],
   "source": [
    "def image_saver(location,file_name,target_url):\n",
    "\n",
    "    with open(location+file_name, 'wb') as handle:\n",
    "        response = requests.get(target_url, stream=True)\n",
    "\n",
    "        if not response.ok:\n",
    "            print(response)\n",
    "\n",
    "        for block in response.iter_content(1024):\n",
    "            if not block:\n",
    "                break\n",
    "\n",
    "            handle.write(block)\n",
    "            \n",
    "def request_page_html_content(url,params = {}):\n",
    "    headers = {\n",
    "        \"User-Agent\":\n",
    "        \"Mozilla/5.0 (Windows NT 10.0; Win64; x64) AppleWebKit/537.36 (KHTML, like Gecko) Chrome/97.0.4692.99 Safari/537.36 OPR/83.0.4254.46\"\n",
    "    }\n",
    "\n",
    "    html_content = requests.get(url, headers=headers,cookies = {'birthtime': '568022401'}, params=params).text\n",
    "\n",
    "    return html_content"
   ]
  },
  {
   "cell_type": "markdown",
   "id": "ef72f199",
   "metadata": {},
   "source": [
    "current html content is get manuelly"
   ]
  },
  {
   "cell_type": "code",
   "execution_count": 12,
   "id": "10529bcc",
   "metadata": {},
   "outputs": [],
   "source": [
    "# no enought data\n",
    "# request_html = request_page_html_content('https://store.steampowered.com/tags/en/MMORPG/?l=french')\n",
    "# soup_content = BeautifulSoup(request_html, 'html.parser')\n",
    "# div_game_tab = soup_content.find('div',{'class':'tabarea'})\n",
    "# print(les_a)"
   ]
  },
  {
   "cell_type": "code",
   "execution_count": 14,
   "id": "ae11b1a1",
   "metadata": {},
   "outputs": [],
   "source": [
    "file = open('./steam_MMO_rpg.html','r',encoding='UTF-8')\n",
    "html_content = file.read()\n",
    "soup_content = BeautifulSoup(html_content, 'html.parser')"
   ]
  },
  {
   "cell_type": "code",
   "execution_count": 50,
   "id": "311af797",
   "metadata": {},
   "outputs": [],
   "source": [
    "urls = soup_content.find_all('a',{\"class\",'search_result_row'})\n",
    "list_url = list(map(lambda e : e['href'] ,urls))\n",
    "# print(*list_url,sep='\\n')\n",
    "    "
   ]
  },
  {
   "cell_type": "code",
   "execution_count": 101,
   "id": "3a0dd040",
   "metadata": {},
   "outputs": [
    {
     "name": "stdout",
     "output_type": "stream",
     "text": [
      "https://store.steampowered.com/app/1599340/Lost_Ark/?snr=1_7_7_151_150_1\n",
      "<img src=\"https://cdn.cloudflare.steamstatic.com/steam/apps/1599340/header.jpg?t=1651157265\" style=\"width:100%;\"/>\n",
      "<img class=\"game_header_image_full\" src=\"https://cdn.cloudflare.steamstatic.com/steam/apps/1599340/header.jpg?t=1651157265\"/>\n",
      "<img src=\"https://store.cloudflare.steamstatic.com/public/images/game/game_highlight_image_spacer.gif\"/>\n",
      "<img src=\"https://store.cloudflare.steamstatic.com/public/images/blank.gif\"/>\n",
      "<img src=\"https://store.cloudflare.steamstatic.com/public/images/blank.gif\"/>\n",
      "<img src=\"https://store.cloudflare.steamstatic.com/public/images/blank.gif\"/>\n",
      "<img src=\"https://store.cloudflare.steamstatic.com/public/images/blank.gif\"/>\n",
      "<img src=\"https://store.cloudflare.steamstatic.com/public/images/blank.gif\"/>\n",
      "<img src=\"https://store.cloudflare.steamstatic.com/public/images/blank.gif\"/>\n",
      "<img src=\"https://store.cloudflare.steamstatic.com/public/images/blank.gif\"/>\n",
      "<img src=\"https://store.cloudflare.steamstatic.com/public/images/blank.gif\"/>\n",
      "<img src=\"https://store.cloudflare.steamstatic.com/public/images/blank.gif\"/>\n",
      "<img src=\"https://store.cloudflare.steamstatic.com/public/images/blank.gif\"/>\n",
      "<img class=\"movie_thumb\" src=\"https://cdn.cloudflare.steamstatic.com/steam/apps/256873070/movie.184x123.jpg?t=1644617950\"/>\n",
      "<img class=\"movie_thumb\" src=\"https://cdn.cloudflare.steamstatic.com/steam/apps/256882710/movie.184x123.jpg?t=1650384515\"/>\n",
      "<img class=\"movie_thumb\" src=\"https://cdn.cloudflare.steamstatic.com/steam/apps/256867770/movie.184x123.jpg?t=1641575070\"/>\n",
      "<img class=\"movie_thumb\" src=\"https://cdn.cloudflare.steamstatic.com/steam/apps/256868936/movie.184x123.jpg?t=1642093283\"/>\n",
      "<img src=\"https://cdn.cloudflare.steamstatic.com/steam/apps/1599340/ss_f86c68e6fe904392d8a08231121f860814125f62.116x65.jpg?t=1651157265\"/>\n",
      "<img src=\"https://cdn.cloudflare.steamstatic.com/steam/apps/1599340/ss_489519a55f1fcef124413a36232598017429a8d2.116x65.jpg?t=1651157265\"/>\n",
      "<img src=\"https://cdn.cloudflare.steamstatic.com/steam/apps/1599340/ss_fd839dd6657095e6e61c45bcaea0fabbf1434096.116x65.jpg?t=1651157265\"/>\n",
      "<img src=\"https://cdn.cloudflare.steamstatic.com/steam/apps/1599340/ss_c4789527b9087517504af18aeec0e2df769a54db.116x65.jpg?t=1651157265\"/>\n",
      "<img src=\"https://cdn.cloudflare.steamstatic.com/steam/apps/1599340/ss_59b4b089b53a3459797ce9b0f21d6e4ff85f15c6.116x65.jpg?t=1651157265\"/>\n",
      "<img src=\"https://cdn.cloudflare.steamstatic.com/steam/apps/1599340/ss_10fb9cd7c9be78e1ca7822a433003f28d8a14926.116x65.jpg?t=1651157265\"/>\n",
      "<img src=\"https://cdn.cloudflare.steamstatic.com/steam/apps/1599340/ss_4e7802861ea7a1cb72e75a2003bf8769d47f6c4a.116x65.jpg?t=1651157265\"/>\n",
      "<img src=\"https://cdn.cloudflare.steamstatic.com/steam/apps/1599340/ss_0835a9016d0c453675994ec218a3dd70a73529ea.116x65.jpg?t=1651157265\"/>\n",
      "<img src=\"https://cdn.cloudflare.steamstatic.com/steam/apps/1599340/ss_b9c562ad66414ec37cf448f2f9d19d70009129ef.116x65.jpg?t=1651157265\"/>\n",
      "<img src=\"https://cdn.cloudflare.steamstatic.com/steam/apps/1599340/ss_ad65376ee41e614c8e28993168c294cb600e4777.116x65.jpg?t=1651157265\"/>\n",
      "<img class=\"movie_thumb\" src=\"https://cdn.cloudflare.steamstatic.com/steam/apps/256871556/movie.184x123.jpg?t=1644617967\"/>\n",
      "<img class=\"movie_thumb\" src=\"https://cdn.cloudflare.steamstatic.com/steam/apps/256863857/movie.184x123.jpg?t=1639099649\"/>\n",
      "<img class=\"movie_thumb\" src=\"https://cdn.cloudflare.steamstatic.com/steam/apps/256848009/movie.184x123.jpg?t=1631596685\"/>\n",
      "<img class=\"movie_thumb\" src=\"https://cdn.cloudflare.steamstatic.com/steam/apps/256863644/movie.184x123.jpg?t=1638896467\"/>\n",
      "<img class=\"movie_thumb\" src=\"https://cdn.cloudflare.steamstatic.com/steam/apps/256846424/movie.184x123.jpg?t=1631596735\"/>\n",
      "<img class=\"movie_thumb\" src=\"https://cdn.cloudflare.steamstatic.com/steam/apps/256861753/movie.184x123.jpg?t=1637773519\"/>\n",
      "<img class=\"movie_thumb\" src=\"https://cdn.cloudflare.steamstatic.com/steam/apps/256844627/movie.184x123.jpg?t=1631596742\"/>\n",
      "<img class=\"movie_thumb\" src=\"https://cdn.cloudflare.steamstatic.com/steam/apps/256862625/movie.184x123.jpg?t=1638291702\"/>\n",
      "<img class=\"movie_thumb\" src=\"https://cdn.cloudflare.steamstatic.com/steam/apps/256843731/movie.184x123.jpg?t=1638464496\"/>\n",
      "<img class=\"movie_thumb\" src=\"https://cdn.cloudflare.steamstatic.com/steam/apps/256862970/movie.184x123.jpg?t=1638464488\"/>\n",
      "<img class=\"movie_thumb\" src=\"https://cdn.cloudflare.steamstatic.com/steam/apps/256842028/movie.184x123.jpg?t=1634832126\"/>\n",
      "<img class=\"movie_thumb\" src=\"https://cdn.cloudflare.steamstatic.com/steam/apps/256860789/movie.184x123.jpg?t=1637169950\"/>\n"
     ]
    }
   ],
   "source": [
    "print(list_url[0])\n",
    "url = list_url[0]\n",
    "response = request_page_html_content(url)\n",
    "page = BeautifulSoup(response, 'html.parser')\n",
    "# print(page)\n",
    "target_content = page.find('div',class_='game_background_glow')\n",
    "# print(target_content)\n",
    "find_all_img = target_content.find_all('img')\n",
    "print(*find_all_img,sep = '\\n')\n",
    "for \n"
   ]
  },
  {
   "cell_type": "code",
   "execution_count": null,
   "id": "c9beb0eb",
   "metadata": {},
   "outputs": [],
   "source": [
    "# print()\n",
    "\n",
    "# # for url in list_url:\n",
    "# #     print(url)\n",
    "# print(list_url[0])\n",
    "\n",
    "#     response = request_page_html_content(url)\n",
    "#     page = BeautifulSoup(response, 'html.parser')\n",
    "#     print(page)"
   ]
  }
 ],
 "metadata": {
  "kernelspec": {
   "display_name": "Python 3 (ipykernel)",
   "language": "python",
   "name": "python3"
  },
  "language_info": {
   "codemirror_mode": {
    "name": "ipython",
    "version": 3
   },
   "file_extension": ".py",
   "mimetype": "text/x-python",
   "name": "python",
   "nbconvert_exporter": "python",
   "pygments_lexer": "ipython3",
   "version": "3.8.8"
  }
 },
 "nbformat": 4,
 "nbformat_minor": 5
}
